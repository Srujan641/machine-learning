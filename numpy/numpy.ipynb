{
 "cells": [
  {
   "cell_type": "code",
   "execution_count": 1,
   "id": "6cd02143-ed05-4f28-a0b2-1aa6ec485d68",
   "metadata": {
    "scrolled": true
   },
   "outputs": [
    {
     "data": {
      "text/plain": [
       "array([ 0,  1, 23], dtype=int64)"
      ]
     },
     "execution_count": 1,
     "metadata": {},
     "output_type": "execute_result"
    }
   ],
   "source": [
    "import numpy as np\n",
    "arry=np.array([0,1,23],np.int64)\n",
    "arry\n",
    "#creating an array using numpy with space as 64\n",
    "#can also creat multi dymnetional array"
   ]
  },
  {
   "cell_type": "code",
   "execution_count": 2,
   "id": "7636b34d-765d-4b74-aa0d-73331078dbdc",
   "metadata": {
    "scrolled": true
   },
   "outputs": [
    {
     "data": {
      "text/plain": [
       "0"
      ]
     },
     "execution_count": 2,
     "metadata": {},
     "output_type": "execute_result"
    }
   ],
   "source": [
    "arry[0]\n",
    "#access to elements using inndex"
   ]
  },
  {
   "cell_type": "code",
   "execution_count": 3,
   "id": "cc69b91b-66a8-4780-8a40-a74a20384997",
   "metadata": {},
   "outputs": [],
   "source": [
    "#arry2=np.array([0,2352565626,4,6], np.int32)\n",
    "#arry2\n",
    "#as the value is greater then 32 bit it is giving an error"
   ]
  },
  {
   "cell_type": "code",
   "execution_count": 4,
   "id": "41b48579-20a9-4104-8c3b-116e80f4f3ce",
   "metadata": {},
   "outputs": [
    {
     "data": {
      "text/plain": [
       "array([ 0, 10, 23], dtype=int64)"
      ]
     },
     "execution_count": 4,
     "metadata": {},
     "output_type": "execute_result"
    }
   ],
   "source": [
    "arry[1]=10\n",
    "arry\n",
    "#updating the arrying"
   ]
  },
  {
   "cell_type": "code",
   "execution_count": 5,
   "id": "1e07fcb3-b758-440a-a5df-fc57707ad615",
   "metadata": {},
   "outputs": [
    {
     "data": {
      "text/plain": [
       "(3,)"
      ]
     },
     "execution_count": 5,
     "metadata": {},
     "output_type": "execute_result"
    }
   ],
   "source": [
    "arry.shape"
   ]
  },
  {
   "cell_type": "code",
   "execution_count": 6,
   "id": "6b600b61-edf9-4175-8425-47b7a574f3d0",
   "metadata": {},
   "outputs": [
    {
     "data": {
      "text/plain": [
       "3"
      ]
     },
     "execution_count": 6,
     "metadata": {},
     "output_type": "execute_result"
    }
   ],
   "source": [
    "arry.size"
   ]
  },
  {
   "cell_type": "code",
   "execution_count": 7,
   "id": "a060e074-7ca2-4b67-9816-7b9d9dab2081",
   "metadata": {},
   "outputs": [
    {
     "data": {
      "text/plain": [
       "dtype('int64')"
      ]
     },
     "execution_count": 7,
     "metadata": {},
     "output_type": "execute_result"
    }
   ],
   "source": [
    "arry.dtype"
   ]
  },
  {
   "cell_type": "code",
   "execution_count": 8,
   "id": "ac89ed6d-978f-4582-962d-540407fe7afc",
   "metadata": {},
   "outputs": [
    {
     "data": {
      "text/plain": [
       "array([[0., 0., 0.],\n",
       "       [0., 0., 0.]])"
      ]
     },
     "execution_count": 8,
     "metadata": {},
     "output_type": "execute_result"
    }
   ],
   "source": [
    "zero=np.zeros((2,3))\n",
    "zero\n",
    "#gives me a zero martix to given dimensions of type flot64"
   ]
  },
  {
   "cell_type": "code",
   "execution_count": 9,
   "id": "689b3f7f-48ea-4dda-ae2c-ea643ea64db1",
   "metadata": {},
   "outputs": [
    {
     "data": {
      "text/plain": [
       "array([ 0,  1,  2,  3,  4,  5,  6,  7,  8,  9, 10, 11, 12, 13, 14, 15, 16,\n",
       "       17, 18, 19])"
      ]
     },
     "execution_count": 9,
     "metadata": {},
     "output_type": "execute_result"
    }
   ],
   "source": [
    "rng=np.arange(20)\n",
    "rng\n",
    "#arange gives the arry of the number in the range"
   ]
  },
  {
   "cell_type": "code",
   "execution_count": 10,
   "id": "9fb5245b-fec0-486d-b039-d9ba7082c87e",
   "metadata": {},
   "outputs": [
    {
     "data": {
      "text/plain": [
       "array([1. , 1.8, 2.6, 3.4, 4.2, 5. ])"
      ]
     },
     "execution_count": 10,
     "metadata": {},
     "output_type": "execute_result"
    }
   ],
   "source": [
    "larry=np.linspace(1,5,6)\n",
    "larry\n",
    "#linspace give an arry of the number with equal intervals 1 to 5 with 6 eqal divison"
   ]
  },
  {
   "cell_type": "code",
   "execution_count": 11,
   "id": "d842f9a7-0653-4706-8664-15c6a4197386",
   "metadata": {},
   "outputs": [
    {
     "data": {
      "text/plain": [
       "array([[1.46807766e-311, 7.50979782e-322, 0.00000000e+000,\n",
       "        0.00000000e+000, 1.89146896e-307],\n",
       "       [1.16095484e-028, 1.44649777e-012, 4.82679021e+233,\n",
       "        9.91233782e-096, 1.96098951e+243],\n",
       "       [1.06318457e+248, 2.49970340e+262, 1.96086579e+243,\n",
       "        3.17095857e+180, 2.19526213e-152],\n",
       "       [5.22373794e+257, 1.14448785e+243, 2.31859154e+251,\n",
       "        1.49005471e+195, 1.69337966e-152],\n",
       "       [7.79956599e-143, 2.91237123e+257, 4.71294503e+257,\n",
       "        1.03412617e+295, 2.56765117e-312]])"
      ]
     },
     "execution_count": 11,
     "metadata": {},
     "output_type": "execute_result"
    }
   ],
   "source": [
    "emp=np.empty(5)\n",
    "emp\n",
    "#give an empty arry\n",
    "emp2=np.empty((5,5))\n",
    "emp2\n",
    "#gives 2 d empty array"
   ]
  },
  {
   "cell_type": "code",
   "execution_count": 12,
   "id": "42471c4f-a7b3-48b6-86d8-5f7ea8046973",
   "metadata": {},
   "outputs": [
    {
     "data": {
      "text/plain": [
       "array([[1., 0., 0., 0., 0., 0.],\n",
       "       [0., 1., 0., 0., 0., 0.],\n",
       "       [0., 0., 1., 0., 0., 0.],\n",
       "       [0., 0., 0., 1., 0., 0.],\n",
       "       [0., 0., 0., 0., 1., 0.],\n",
       "       [0., 0., 0., 0., 0., 1.]])"
      ]
     },
     "execution_count": 12,
     "metadata": {},
     "output_type": "execute_result"
    }
   ],
   "source": [
    "ide=np.identity(6)\n",
    "ide\n",
    "#gives identy matrix of 6X6"
   ]
  },
  {
   "cell_type": "code",
   "execution_count": 13,
   "id": "b84e0b08-e4b4-4548-8429-2a32d33f1b2d",
   "metadata": {},
   "outputs": [
    {
     "data": {
      "text/plain": [
       "array([ 0,  1,  2,  3,  4,  5,  6,  7,  8,  9, 10, 11, 12, 13, 14, 15, 16,\n",
       "       17, 18, 19, 20, 21, 22, 23, 24, 25, 26, 27, 28, 29, 30, 31, 32, 33,\n",
       "       34, 35, 36, 37, 38, 39, 40, 41, 42, 43, 44, 45, 46, 47, 48, 49, 50,\n",
       "       51, 52, 53, 54, 55, 56, 57, 58, 59, 60, 61, 62, 63, 64, 65, 66, 67,\n",
       "       68, 69, 70, 71, 72, 73, 74, 75, 76, 77, 78, 79, 80, 81, 82, 83, 84,\n",
       "       85, 86, 87, 88, 89, 90, 91, 92, 93, 94, 95, 96, 97, 98])"
      ]
     },
     "execution_count": 13,
     "metadata": {},
     "output_type": "execute_result"
    }
   ],
   "source": [
    "arr=np.arange(99)\n",
    "arr"
   ]
  },
  {
   "cell_type": "code",
   "execution_count": 14,
   "id": "93c22363-1c46-4621-b51e-1bf0755db787",
   "metadata": {},
   "outputs": [
    {
     "data": {
      "text/plain": [
       "array([[ 0,  1,  2,  3,  4,  5,  6,  7,  8,  9, 10, 11, 12, 13, 14, 15,\n",
       "        16, 17, 18, 19, 20, 21, 22, 23, 24, 25, 26, 27, 28, 29, 30, 31,\n",
       "        32],\n",
       "       [33, 34, 35, 36, 37, 38, 39, 40, 41, 42, 43, 44, 45, 46, 47, 48,\n",
       "        49, 50, 51, 52, 53, 54, 55, 56, 57, 58, 59, 60, 61, 62, 63, 64,\n",
       "        65],\n",
       "       [66, 67, 68, 69, 70, 71, 72, 73, 74, 75, 76, 77, 78, 79, 80, 81,\n",
       "        82, 83, 84, 85, 86, 87, 88, 89, 90, 91, 92, 93, 94, 95, 96, 97,\n",
       "        98]])"
      ]
     },
     "execution_count": 14,
     "metadata": {},
     "output_type": "execute_result"
    }
   ],
   "source": [
    "arr=arr.reshape(3,33)\n",
    "arr\n",
    "#used to resahpe the matrix"
   ]
  },
  {
   "cell_type": "code",
   "execution_count": 15,
   "id": "42f2df74-2453-4497-b386-c43fc5c142c7",
   "metadata": {},
   "outputs": [
    {
     "data": {
      "text/plain": [
       "array([ 0,  1,  2,  3,  4,  5,  6,  7,  8,  9, 10, 11, 12, 13, 14, 15, 16,\n",
       "       17, 18, 19, 20, 21, 22, 23, 24, 25, 26, 27, 28, 29, 30, 31, 32, 33,\n",
       "       34, 35, 36, 37, 38, 39, 40, 41, 42, 43, 44, 45, 46, 47, 48, 49, 50,\n",
       "       51, 52, 53, 54, 55, 56, 57, 58, 59, 60, 61, 62, 63, 64, 65, 66, 67,\n",
       "       68, 69, 70, 71, 72, 73, 74, 75, 76, 77, 78, 79, 80, 81, 82, 83, 84,\n",
       "       85, 86, 87, 88, 89, 90, 91, 92, 93, 94, 95, 96, 97, 98])"
      ]
     },
     "execution_count": 15,
     "metadata": {},
     "output_type": "execute_result"
    }
   ],
   "source": [
    "arr=arr.ravel()\n",
    "arr\n",
    "#comes back to orignal form or into 1d array"
   ]
  },
  {
   "cell_type": "code",
   "execution_count": 16,
   "id": "3734b55b-8077-445c-8c80-2fb3eae952e2",
   "metadata": {},
   "outputs": [
    {
     "data": {
      "text/plain": [
       "array([[1, 2, 3],\n",
       "       [4, 5, 6],\n",
       "       [7, 8, 9]])"
      ]
     },
     "execution_count": 16,
     "metadata": {},
     "output_type": "execute_result"
    }
   ],
   "source": [
    "ax=np.array([[1,2,3],[4,5,6],[7,8,9]])\n",
    "ax"
   ]
  },
  {
   "cell_type": "code",
   "execution_count": 17,
   "id": "71bed86a-e6af-4329-986b-54681db5ce47",
   "metadata": {},
   "outputs": [
    {
     "data": {
      "text/plain": [
       "array([12, 15, 18])"
      ]
     },
     "execution_count": 17,
     "metadata": {},
     "output_type": "execute_result"
    }
   ],
   "source": [
    "ax.sum(axis=0)\n",
    "#axis=0 menas the rows of the matrix"
   ]
  },
  {
   "cell_type": "code",
   "execution_count": 18,
   "id": "ead95eeb-3916-4d63-90ab-5fb809a256b6",
   "metadata": {},
   "outputs": [
    {
     "data": {
      "text/plain": [
       "array([ 6, 15, 24])"
      ]
     },
     "execution_count": 18,
     "metadata": {},
     "output_type": "execute_result"
    }
   ],
   "source": [
    "ax.sum(axis=1)\n",
    "#axis=1 means col"
   ]
  },
  {
   "cell_type": "code",
   "execution_count": 19,
   "id": "a2062514-bebb-46d8-a00d-01bfdb6cda44",
   "metadata": {},
   "outputs": [
    {
     "data": {
      "text/plain": [
       "array([[1, 4, 7],\n",
       "       [2, 5, 8],\n",
       "       [3, 6, 9]])"
      ]
     },
     "execution_count": 19,
     "metadata": {},
     "output_type": "execute_result"
    }
   ],
   "source": [
    "ax.T\n",
    "#gives traspose "
   ]
  },
  {
   "cell_type": "code",
   "execution_count": 20,
   "id": "5489c8ac-fca4-4027-b814-9a5fff0ff208",
   "metadata": {},
   "outputs": [
    {
     "data": {
      "text/plain": [
       "2"
      ]
     },
     "execution_count": 20,
     "metadata": {},
     "output_type": "execute_result"
    }
   ],
   "source": [
    "ax.ndim\n",
    "#gives dimension"
   ]
  },
  {
   "cell_type": "code",
   "execution_count": 21,
   "id": "c0134839-89ef-4195-a005-3a56afa3f175",
   "metadata": {},
   "outputs": [
    {
     "data": {
      "text/plain": [
       "36"
      ]
     },
     "execution_count": 21,
     "metadata": {},
     "output_type": "execute_result"
    }
   ],
   "source": [
    "ax.nbytes\n",
    "#gives the storage value"
   ]
  },
  {
   "cell_type": "code",
   "execution_count": 22,
   "id": "d90be64b-f59d-408b-b971-9a725aa99bc8",
   "metadata": {},
   "outputs": [
    {
     "data": {
      "text/plain": [
       "2"
      ]
     },
     "execution_count": 22,
     "metadata": {},
     "output_type": "execute_result"
    }
   ],
   "source": [
    "ar=np.array([1,25,2646,12])\n",
    "ar.argmax()\n",
    "#gives the index where the max elemnt is present"
   ]
  },
  {
   "cell_type": "code",
   "execution_count": 23,
   "id": "eae029a4-dfa3-4fea-95f9-7655ae75f933",
   "metadata": {},
   "outputs": [
    {
     "data": {
      "text/plain": [
       "0"
      ]
     },
     "execution_count": 23,
     "metadata": {},
     "output_type": "execute_result"
    }
   ],
   "source": [
    "ar.argmin()\n",
    "#give min index"
   ]
  },
  {
   "cell_type": "code",
   "execution_count": 24,
   "id": "7159875f-0d1b-449e-a445-a4dce4925470",
   "metadata": {},
   "outputs": [
    {
     "data": {
      "text/plain": [
       "array([0, 3, 1, 2], dtype=int64)"
      ]
     },
     "execution_count": 24,
     "metadata": {},
     "output_type": "execute_result"
    }
   ],
   "source": [
    "ar.argsort()\n",
    "#gives the index in which if places the array will be sorted"
   ]
  },
  {
   "cell_type": "code",
   "execution_count": null,
   "id": "bd3eb1ba-dbe3-41c7-8d42-f498ec96e12d",
   "metadata": {},
   "outputs": [],
   "source": []
  }
 ],
 "metadata": {
  "kernelspec": {
   "display_name": "Python 3 (ipykernel)",
   "language": "python",
   "name": "python3"
  },
  "language_info": {
   "codemirror_mode": {
    "name": "ipython",
    "version": 3
   },
   "file_extension": ".py",
   "mimetype": "text/x-python",
   "name": "python",
   "nbconvert_exporter": "python",
   "pygments_lexer": "ipython3",
   "version": "3.12.7"
  }
 },
 "nbformat": 4,
 "nbformat_minor": 5
}
